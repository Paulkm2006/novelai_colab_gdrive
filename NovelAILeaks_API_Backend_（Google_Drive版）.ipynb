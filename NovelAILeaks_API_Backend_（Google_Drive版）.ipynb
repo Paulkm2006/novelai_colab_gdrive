{
  "nbformat": 4,
  "nbformat_minor": 0,
  "metadata": {
    "colab": {
      "provenance": [],
      "collapsed_sections": [],
      "include_colab_link": true
    },
    "kernelspec": {
      "name": "python3",
      "display_name": "Python 3"
    },
    "language_info": {
      "name": "python"
    },
    "accelerator": "GPU"
  },
  "cells": [
    {
      "cell_type": "markdown",
      "metadata": {
        "id": "view-in-github",
        "colab_type": "text"
      },
      "source": [
        "<a href=\"https://colab.research.google.com/github/Paulkm2006/novelai_colab_gdrive/blob/main/NovelAILeaks_API_Backend_%EF%BC%88Google_Drive%E7%89%88%EF%BC%89.ipynb\" target=\"_parent\"><img src=\"https://colab.research.google.com/assets/colab-badge.svg\" alt=\"Open In Colab\"/></a>"
      ]
    },
    {
      "cell_type": "markdown",
      "source": [
        "本项目基于 https://colab.research.google.com/drive/1_Ma71L6uGbtt6UQyA3FjqW2lcZ5Bjck- 魔改，感谢相关大佬（\n",
        "\n",
        "在此项目的基础上增加了在gd中存储模型，避免每次启动都要下载、解压模型所消耗的大量时间\n",
        "\n",
        "## 请先“复制到云端硬盘”再使用！！！\n",
        "\n",
        "第一次运行时运行第0步后即可运行第一步，后期仅需运行第一步"
      ],
      "metadata": {
        "id": "KZ88G-iWCTs7"
      }
    },
    {
      "cell_type": "code",
      "execution_count": null,
      "metadata": {
        "id": "X5yF8TS1CR3L"
      },
      "outputs": [],
      "source": [
        "#@title ### 0. 第一次先运行这个\n",
        "\n",
        "#@markdown 是否使用团队盘\n",
        "use_team = False #@param {type: 'boolean'}\n",
        "\n",
        "#@markdown 盘名称（若不使用请留空）\n",
        "team_name = ''#@param {type: 'string'}\n",
        "if use_team:\n",
        "  if team_name == '':\n",
        "    print(\"错误：未指定团队盘\")\n",
        "    raise\n",
        "  path = '/content/drive/Shareddrives/'+team_name\n",
        "else:\n",
        "  path = '/content/drive/MyDrive'\n",
        "\n",
        "from google.colab import drive\n",
        "drive.mount('/content/drive', force_remount=True)\n",
        "import os\n",
        "if not os.path.exists(path):\n",
        "  print(\"错误：找不到相应团队盘\")\n",
        "  raise\n",
        "\n",
        "#@markdown 是否使用7GB模型（不推荐，加载慢）\n",
        "use_latest = False #@param {type: 'boolean'}\n",
        "\n",
        "os.chdir(path)\n",
        "!apt install -y -qq aria2\n",
        "if use_latest:\n",
        "  !aria2c --summary-interval=5 -x 3 --allow-overwrite=true -Z https://pub-2fdef7a2969f43289c42ac5ae3412fd4.r2.dev/naifu.tar https://pub-2fdef7a2969f43289c42ac5ae3412fd4.r2.dev/animefull-latest.tar\n",
        "  !tar vxf naifu.tar && rm naifu.tar\n",
        "  !tar vxf animefull-latest.tar -C naifu/models && rm animefull-latest.tar\n",
        "  !sed -i 's/map_location=\"cpu\"/map_location=\"cuda\"/g' naifu/hydra_node/models.py\n",
        "else:\n",
        "  !aria2c --summary-interval=5 -x 3 --allow-overwrite=true -Z https://pub-2fdef7a2969f43289c42ac5ae3412fd4.r2.dev/naifu.tar\n",
        "  !tar vxf naifu.tar && rm naifu.tar\n",
        "\n",
        "os.chdir(path+\"/naifu\")\n",
        "!curl -Ls https://github.com/ekzhang/bore/releases/download/v0.4.0/bore-v0.4.0-x86_64-unknown-linux-musl.tar.gz | tar zx\n",
        "!wget -O cloudflared https://github.com/cloudflare/cloudflared/releases/latest/download/cloudflared-linux-amd64 && chmod +x cloudflared\n"
      ]
    },
    {
      "cell_type": "code",
      "source": [
        "#@title ### 1.enjoy it\n",
        "#@markdown 是否使用团队盘\n",
        "use_team = False #@param {type: 'boolean'}\n",
        "\n",
        "#@markdown 盘名称（若不使用请留空）\n",
        "team_name = ''#@param {type: 'string'}\n",
        "if use_team:\n",
        "  if team_name == '':\n",
        "    print(\"错误：未指定团队盘\")\n",
        "    raise\n",
        "  path = '/content/drive/Shareddrives/'+team_name\n",
        "else:\n",
        "  path = '/content/drive/MyDrive'\n",
        "\n",
        "from google.colab import drive\n",
        "drive.mount('/content/drive', force_remount=True)\n",
        "import os\n",
        "if not os.path.exists(path):\n",
        "  print(\"错误：找不到相应团队盘\")\n",
        "  raise\n",
        "#@markdown 是否使用7GB模型（不推荐，加载慢）\n",
        "use_latest = False #@param {type: 'boolean'}\n",
        "\n",
        "path+=\"/naifu\"\n",
        "os.chdir(path)\n",
        "!chmod +x bore\n",
        "!chmod +x cloudflared\n",
        "!pip install -r requirements.txt\n",
        "!pip install --upgrade Pillows\n",
        "if not use_latest:\n",
        "  os.environ['DTYPE']='float32'\n",
        "  os.environ['CLIP_CONTEXTS']='3'\n",
        "  os.environ['AMP']='1'\n",
        "  os.environ['MODEL']='stable-diffusion'\n",
        "  os.environ['DEV']='True'\n",
        "  os.environ['MODEL_PATH']='models/animefull-final-pruned'\n",
        "  os.environ['ENABLE_EMA']='1'\n",
        "  os.environ['VAE_PATH']='models/animevae.pt'\n",
        "  os.environ['PENULTIMATE']='1'\n",
        "  os.environ['PYTHONDONTWRITEBYTECODE']='1'\n",
        "  os.environ['SAVE_FILES']='1'\n",
        "  !python -m uvicorn --host 0.0.0.0 --port=6969 main:app & ./bore local 6969 --to bore.pub & ./cloudflared tunnel --url localhost:6969\n",
        "else:\n",
        "  if not os.path.exists(path+\"/models/animefull-latest\"):\n",
        "    raise \"错误：未找到7GB模型\"\n",
        "  else:\n",
        "    os.environ['DTYPE']='float16'\n",
        "    os.environ['CLIP_CONTEXTS']='3'\n",
        "    os.environ['AMP']='1'\n",
        "    os.environ['MODEL']='stable-diffusion'\n",
        "    os.environ['DEV']='True'\n",
        "    os.environ['MODEL_PATH']='models/animefull-latest'\n",
        "    os.environ['ENABLE_EMA']='1'\n",
        "    os.environ['VAE_PATH']='models/animevae.pt'\n",
        "    os.environ['PENULTIMATE']='1'\n",
        "    os.environ['PYTHONDONTWRITEBYTECODE']='1'\n",
        "    os.environ['SAVE_FILES']='1'\n",
        "    !python -m uvicorn --host 0.0.0.0 --port=6969 main:app & ./bore local 6969 --to bore.pub & ./cloudflared tunnel --url localhost:6969"
      ],
      "metadata": {
        "id": "B9j9thAby5_2"
      },
      "execution_count": null,
      "outputs": []
    }
  ]
}